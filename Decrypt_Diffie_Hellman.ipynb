{
  "nbformat": 4,
  "nbformat_minor": 0,
  "metadata": {
    "colab": {
      "provenance": []
    },
    "kernelspec": {
      "name": "python3",
      "display_name": "Python 3"
    },
    "language_info": {
      "name": "python"
    }
  },
  "cells": [
    {
      "cell_type": "code",
      "source": [
        "!pip install pycryptodome\n"
      ],
      "metadata": {
        "colab": {
          "base_uri": "https://localhost:8080/"
        },
        "id": "h6OtVtWoZfWg",
        "outputId": "f13e4518-7c2e-42fb-cb7c-947af382d24d"
      },
      "execution_count": 2,
      "outputs": [
        {
          "output_type": "stream",
          "name": "stdout",
          "text": [
            "Requirement already satisfied: pycryptodome in /usr/local/lib/python3.11/dist-packages (3.22.0)\n"
          ]
        }
      ]
    },
    {
      "cell_type": "markdown",
      "source": [
        "# Parametros 1\n",
        "\n",
        "{\n",
        "\t\t\t\"p\": 227,\n",
        "\t\t\t\"q\": 113,\n",
        "\t\t\t\"g\": 12\n",
        "}"
      ],
      "metadata": {
        "id": "7I08X-aF3ZuO"
      }
    },
    {
      "cell_type": "code",
      "source": [
        "p = 227\n",
        "g = 12\n",
        "\n",
        "server_public = 139\n",
        "client_public = 209\n"
      ],
      "metadata": {
        "id": "R2VHxwwN3c1U"
      },
      "execution_count": 2,
      "outputs": []
    },
    {
      "cell_type": "markdown",
      "source": [
        "## Baby Step - Giant Step"
      ],
      "metadata": {
        "id": "7w7D68Bz3hUE"
      }
    },
    {
      "cell_type": "code",
      "execution_count": 3,
      "metadata": {
        "id": "_E1SE_qnYoHp",
        "colab": {
          "base_uri": "https://localhost:8080/"
        },
        "outputId": "d9058dc1-b0b2-4f44-ff7d-b42236608642"
      },
      "outputs": [
        {
          "output_type": "stream",
          "name": "stdout",
          "text": [
            "🔐 Server private key: 3\n",
            "🔐 Client private key: 9\n"
          ]
        }
      ],
      "source": [
        "import math\n",
        "\n",
        "def baby_step_giant_step(g, y, p):\n",
        "    m = math.isqrt(p) + 1\n",
        "\n",
        "    # Baby steps\n",
        "    baby_steps = {}\n",
        "    for j in range(m):\n",
        "        baby_steps[pow(g, j, p)] = j\n",
        "\n",
        "    # Precompute g^(-m)\n",
        "    c = pow(g, m * (p - 2), p)  # inverso modular\n",
        "\n",
        "    for i in range(m):\n",
        "        value = (y * pow(c, i, p)) % p\n",
        "        if value in baby_steps:\n",
        "            return i * m + baby_steps[value]\n",
        "    return None\n",
        "\n",
        "server_private = baby_step_giant_step(g, server_public, p)\n",
        "client_private = baby_step_giant_step(g, client_public, p)\n",
        "\n",
        "print(f\"🔐 Server private key: {server_private}\")\n",
        "print(f\"🔐 Client private key: {client_private}\")\n"
      ]
    },
    {
      "cell_type": "markdown",
      "source": [
        "## Calculo Llave compartida"
      ],
      "metadata": {
        "id": "0UJ-PnxQ3uZW"
      }
    },
    {
      "cell_type": "code",
      "source": [
        "shared_secret = pow(client_public, server_private, p)\n",
        "print(\"🧩 Clave compartida derivada:\", shared_secret)\n"
      ],
      "metadata": {
        "colab": {
          "base_uri": "https://localhost:8080/"
        },
        "id": "okK9Zw9Q3zdt",
        "outputId": "39c40f4d-9026-4543-8095-078f8524dc72"
      },
      "execution_count": 4,
      "outputs": [
        {
          "output_type": "stream",
          "name": "stdout",
          "text": [
            "🧩 Clave compartida derivada: 70\n"
          ]
        }
      ]
    },
    {
      "cell_type": "markdown",
      "source": [
        "## Datos del mensaje"
      ],
      "metadata": {
        "id": "lN9MZFJt4A2E"
      }
    },
    {
      "cell_type": "markdown",
      "source": [
        "Mensaje Capturado:\n",
        "\n",
        "42[\"secure-reply\",{\"ciphertext\":\"1nJixw==\",\"nonce\":\"cH2Puf/l4ERPeRva\",\"tag\":\"aZcMG/Z7AOdxQVVXearcwA==\",\"clientPubKey\":\"209\"}]\n"
      ],
      "metadata": {
        "id": "YhdzQm-TsvJY"
      }
    },
    {
      "cell_type": "code",
      "source": [
        "from base64 import b64decode\n",
        "\n",
        "ciphertext_b64 = \"1nJixw==\"\n",
        "nonce_b64 = \"cH2Puf/l4ERPeRva\"\n",
        "tag_b64 = \"aZcMG/Z7AOdxQVVXearcwA==\"\n",
        "\n",
        "ciphertext = b64decode(ciphertext_b64)\n",
        "nonce = b64decode(nonce_b64)\n",
        "tag = b64decode(tag_b64)\n",
        "\n",
        "print(f\"📦 Ciphertext ({len(ciphertext)} bytes):\", ciphertext.hex())\n",
        "print(f\"📦 Nonce ({len(nonce)} bytes):\", nonce.hex())\n",
        "print(f\"📦 Tag ({len(tag)} bytes):\", tag.hex())"
      ],
      "metadata": {
        "colab": {
          "base_uri": "https://localhost:8080/"
        },
        "id": "yGZ24vE24GpG",
        "outputId": "1ab982f7-b160-4868-f25e-47694f4641d1"
      },
      "execution_count": 5,
      "outputs": [
        {
          "output_type": "stream",
          "name": "stdout",
          "text": [
            "📦 Ciphertext (4 bytes): d67262c7\n",
            "📦 Nonce (12 bytes): 707d8fb9ffe5e0444f791bda\n",
            "📦 Tag (16 bytes): 69970c1bf67b00e77141555779aadcc0\n"
          ]
        }
      ]
    },
    {
      "cell_type": "markdown",
      "source": [
        "## Decifrado ChaCha20"
      ],
      "metadata": {
        "id": "FaSE0Q2l4Il9"
      }
    },
    {
      "cell_type": "code",
      "source": [
        "from Crypto.Cipher import ChaCha20_Poly1305\n",
        "from hashlib import sha256\n",
        "\n",
        "# ChaCha20 requiere una clave de 256 bits (32 bytes)\n",
        "key = sha256(str(shared_secret).encode()).digest()\n",
        "\n",
        "try:\n",
        "    cipher = ChaCha20_Poly1305.new(key=key, nonce=nonce)\n",
        "    cipher.update(b'')  # No hay AAD\n",
        "    plaintext = cipher.decrypt_and_verify(ciphertext, tag)\n",
        "    print(\"✅ Mensaje descifrado:\", plaintext.decode())\n",
        "except ValueError as e:\n",
        "    print(\"❌ Error al verificar MAC:\", str(e))\n"
      ],
      "metadata": {
        "colab": {
          "base_uri": "https://localhost:8080/"
        },
        "id": "xmGGhosb4KMA",
        "outputId": "d8bb0b8c-108f-4a0f-c816-08d6e4c98c27"
      },
      "execution_count": 6,
      "outputs": [
        {
          "output_type": "stream",
          "name": "stdout",
          "text": [
            "✅ Mensaje descifrado: Hola\n"
          ]
        }
      ]
    },
    {
      "cell_type": "markdown",
      "source": [
        "# Parametros 2\n",
        "\n",
        "{\n",
        "\t\t\t\"p\": 51047,\n",
        "\t\t\t\"q\": 25523,\n",
        "\t\t\t\"g\": 93\n",
        "}"
      ],
      "metadata": {
        "id": "ollB1gZN-nPv"
      }
    },
    {
      "cell_type": "code",
      "source": [
        "p = 51047\n",
        "g = 93\n",
        "\n",
        "server_public = 25933\n",
        "client_public = 8575\n"
      ],
      "metadata": {
        "id": "JyayMiUO-nPw"
      },
      "execution_count": 12,
      "outputs": []
    },
    {
      "cell_type": "markdown",
      "source": [
        "## Baby Step - Giant Step"
      ],
      "metadata": {
        "id": "lnelhLFq-nPw"
      }
    },
    {
      "cell_type": "code",
      "execution_count": 13,
      "metadata": {
        "colab": {
          "base_uri": "https://localhost:8080/"
        },
        "outputId": "610a2974-1cfd-4b6e-8846-f0b58b3e48fa",
        "id": "c2lyHan4-nPx"
      },
      "outputs": [
        {
          "output_type": "stream",
          "name": "stdout",
          "text": [
            "🔐 Server private key: 24364\n",
            "🔐 Client private key: 5498\n"
          ]
        }
      ],
      "source": [
        "import math\n",
        "\n",
        "def baby_step_giant_step(g, y, p):\n",
        "    m = math.isqrt(p) + 1\n",
        "\n",
        "    # Baby steps\n",
        "    baby_steps = {}\n",
        "    for j in range(m):\n",
        "        baby_steps[pow(g, j, p)] = j\n",
        "\n",
        "    # Precompute g^(-m)\n",
        "    c = pow(g, m * (p - 2), p)  # inverso modular\n",
        "\n",
        "    for i in range(m):\n",
        "        value = (y * pow(c, i, p)) % p\n",
        "        if value in baby_steps:\n",
        "            return i * m + baby_steps[value]\n",
        "    return None\n",
        "\n",
        "server_private = baby_step_giant_step(g, server_public, p)\n",
        "client_private = baby_step_giant_step(g, client_public, p)\n",
        "\n",
        "print(f\"🔐 Server private key: {server_private}\")\n",
        "print(f\"🔐 Client private key: {client_private}\")\n"
      ]
    },
    {
      "cell_type": "markdown",
      "source": [
        "## Calculo Llave compartida"
      ],
      "metadata": {
        "id": "O2dgT6R9-nPx"
      }
    },
    {
      "cell_type": "code",
      "source": [
        "shared_secret = pow(client_public, server_private, p)\n",
        "print(\"🧩 Clave compartida derivada:\", shared_secret)\n"
      ],
      "metadata": {
        "colab": {
          "base_uri": "https://localhost:8080/"
        },
        "outputId": "de9a690b-5179-45c1-a1d4-8d4637671481",
        "id": "tMuM5K2I-nPx"
      },
      "execution_count": 14,
      "outputs": [
        {
          "output_type": "stream",
          "name": "stdout",
          "text": [
            "🧩 Clave compartida derivada: 16642\n"
          ]
        }
      ]
    },
    {
      "cell_type": "markdown",
      "source": [
        "## Datos del mensaje"
      ],
      "metadata": {
        "id": "ogwKRBBS-nPy"
      }
    },
    {
      "cell_type": "markdown",
      "source": [
        "42[\"secure-reply\",{\"ciphertext\":\"bY9BaYQ=\",\"nonce\":\"OvqvWjFHt+wp+S2P\",\"tag\":\"5Jaq9pKvfRJOTy9VKawxWQ==\",\"clientPubKey\":\"8575\"}]"
      ],
      "metadata": {
        "id": "2rgSW0MeyAol"
      }
    },
    {
      "cell_type": "code",
      "source": [
        "from base64 import b64decode\n",
        "\n",
        "ciphertext_b64 = \"bY9BaYQ=\"\n",
        "nonce_b64 = \"OvqvWjFHt+wp+S2P\"\n",
        "tag_b64 = \"5Jaq9pKvfRJOTy9VKawxWQ==\"\n",
        "\n",
        "ciphertext = b64decode(ciphertext_b64)\n",
        "nonce = b64decode(nonce_b64)\n",
        "tag = b64decode(tag_b64)\n",
        "\n",
        "print(f\"📦 Ciphertext ({len(ciphertext)} bytes):\", ciphertext.hex())\n",
        "print(f\"📦 Nonce ({len(nonce)} bytes):\", nonce.hex())\n",
        "print(f\"📦 Tag ({len(tag)} bytes):\", tag.hex())"
      ],
      "metadata": {
        "colab": {
          "base_uri": "https://localhost:8080/"
        },
        "outputId": "7558f4dc-6124-4472-ff5a-b04677ce7db6",
        "id": "gkn7_lEr-nPy"
      },
      "execution_count": 16,
      "outputs": [
        {
          "output_type": "stream",
          "name": "stdout",
          "text": [
            "📦 Ciphertext (5 bytes): 6d8f416984\n",
            "📦 Nonce (12 bytes): 3afaaf5a3147b7ec29f92d8f\n",
            "📦 Tag (16 bytes): e496aaf692af7d124e4f2f5529ac3159\n"
          ]
        }
      ]
    },
    {
      "cell_type": "markdown",
      "source": [
        "## Decifrado ChaCha20"
      ],
      "metadata": {
        "id": "lmzoOS9Y-nPy"
      }
    },
    {
      "cell_type": "code",
      "source": [
        "from Crypto.Cipher import ChaCha20_Poly1305\n",
        "from hashlib import sha256\n",
        "\n",
        "# ChaCha20 requiere una clave de 256 bits (32 bytes)\n",
        "key = sha256(str(shared_secret).encode()).digest()\n",
        "\n",
        "try:\n",
        "    cipher = ChaCha20_Poly1305.new(key=key, nonce=nonce)\n",
        "    cipher.update(b'')  # No hay AAD\n",
        "    plaintext = cipher.decrypt_and_verify(ciphertext, tag)\n",
        "    print(\"✅ Mensaje descifrado:\", plaintext.decode())\n",
        "except ValueError as e:\n",
        "    print(\"❌ Error al verificar MAC:\", str(e))\n"
      ],
      "metadata": {
        "colab": {
          "base_uri": "https://localhost:8080/"
        },
        "outputId": "7b1c2230-8a83-47c5-a705-6e934c9312fa",
        "id": "VXB6Uzd9-nPy"
      },
      "execution_count": 17,
      "outputs": [
        {
          "output_type": "stream",
          "name": "stdout",
          "text": [
            "✅ Mensaje descifrado: Hola2\n"
          ]
        }
      ]
    },
    {
      "cell_type": "markdown",
      "source": [
        "# Parametros 3\n",
        "\n",
        "{\n",
        "\t\t\t\"p\": 14330819,\n",
        "\t\t\t\"q\": 7165409,\n",
        "\t\t\t\"g\": 1970788\n",
        "}"
      ],
      "metadata": {
        "id": "SfXid5ho-27t"
      }
    },
    {
      "cell_type": "code",
      "source": [
        "p = 14330819\n",
        "g = 1970788\n",
        "\n",
        "server_public = 10453739\n",
        "client_public = 2157144\n"
      ],
      "metadata": {
        "id": "k9aNNMDv-27w"
      },
      "execution_count": 18,
      "outputs": []
    },
    {
      "cell_type": "markdown",
      "source": [
        "## Baby Step - Giant Step"
      ],
      "metadata": {
        "id": "NUye-wF9-272"
      }
    },
    {
      "cell_type": "code",
      "execution_count": 19,
      "metadata": {
        "colab": {
          "base_uri": "https://localhost:8080/"
        },
        "outputId": "ea1f44ff-8860-4c06-bfa1-f52cd0ed5fbc",
        "id": "13MEGPw1-275"
      },
      "outputs": [
        {
          "output_type": "stream",
          "name": "stdout",
          "text": [
            "🔐 Server private key: 4096234\n",
            "🔐 Client private key: 1706043\n"
          ]
        }
      ],
      "source": [
        "import math\n",
        "\n",
        "def baby_step_giant_step(g, y, p):\n",
        "    m = math.isqrt(p) + 1\n",
        "\n",
        "    # Baby steps\n",
        "    baby_steps = {}\n",
        "    for j in range(m):\n",
        "        baby_steps[pow(g, j, p)] = j\n",
        "\n",
        "    # Precompute g^(-m)\n",
        "    c = pow(g, m * (p - 2), p)  # inverso modular\n",
        "\n",
        "    for i in range(m):\n",
        "        value = (y * pow(c, i, p)) % p\n",
        "        if value in baby_steps:\n",
        "            return i * m + baby_steps[value]\n",
        "    return None\n",
        "\n",
        "server_private = baby_step_giant_step(g, server_public, p)\n",
        "client_private = baby_step_giant_step(g, client_public, p)\n",
        "\n",
        "print(f\"🔐 Server private key: {server_private}\")\n",
        "print(f\"🔐 Client private key: {client_private}\")\n"
      ]
    },
    {
      "cell_type": "markdown",
      "source": [
        "## Calculo Llave compartida"
      ],
      "metadata": {
        "id": "k7AMIFdb-277"
      }
    },
    {
      "cell_type": "code",
      "source": [
        "shared_secret = pow(client_public, server_private, p)\n",
        "print(\"🧩 Clave compartida derivada:\", shared_secret)\n"
      ],
      "metadata": {
        "colab": {
          "base_uri": "https://localhost:8080/"
        },
        "outputId": "322b69c6-5ba3-4e4a-80c2-c9628c72f6c2",
        "id": "-m3KrA_4-279"
      },
      "execution_count": 20,
      "outputs": [
        {
          "output_type": "stream",
          "name": "stdout",
          "text": [
            "🧩 Clave compartida derivada: 7563072\n"
          ]
        }
      ]
    },
    {
      "cell_type": "markdown",
      "source": [
        "## Datos del mensaje"
      ],
      "metadata": {
        "id": "mttMpJgv-27_"
      }
    },
    {
      "cell_type": "markdown",
      "source": [
        "42[\"secure-reply\",{\"ciphertext\":\"Hs4kCawl7k7OmVO+eA==\",\"nonce\":\"AFc4iusO7ds7+yCu\",\"tag\":\"9K/Jh9liau+qKMLsaIVUAg==\",\"clientPubKey\":\"2157144\"}]"
      ],
      "metadata": {
        "id": "svXkB7WQ1Fqn"
      }
    },
    {
      "cell_type": "code",
      "source": [
        "from base64 import b64decode\n",
        "\n",
        "ciphertext_b64 = \"Hs4kCawl7k7OmVO+eA==\"\n",
        "nonce_b64 = \"AFc4iusO7ds7+yCu\"\n",
        "tag_b64 = \"9K/Jh9liau+qKMLsaIVUAg==\"\n",
        "\n",
        "ciphertext = b64decode(ciphertext_b64)\n",
        "nonce = b64decode(nonce_b64)\n",
        "tag = b64decode(tag_b64)\n",
        "\n",
        "print(f\"📦 Ciphertext ({len(ciphertext)} bytes):\", ciphertext.hex())\n",
        "print(f\"📦 Nonce ({len(nonce)} bytes):\", nonce.hex())\n",
        "print(f\"📦 Tag ({len(tag)} bytes):\", tag.hex())"
      ],
      "metadata": {
        "colab": {
          "base_uri": "https://localhost:8080/"
        },
        "outputId": "3de35547-17a8-4804-f555-5cfd670a6267",
        "id": "WTe2m4SH-28A"
      },
      "execution_count": 22,
      "outputs": [
        {
          "output_type": "stream",
          "name": "stdout",
          "text": [
            "📦 Ciphertext (13 bytes): 1ece2409ac25ee4ece9953be78\n",
            "📦 Nonce (12 bytes): 0057388aeb0eeddb3bfb20ae\n",
            "📦 Tag (16 bytes): f4afc987d9626aefaa28c2ec68855402\n"
          ]
        }
      ]
    },
    {
      "cell_type": "markdown",
      "source": [
        "## Decifrado ChaCha20"
      ],
      "metadata": {
        "id": "1v5r6Rro-28C"
      }
    },
    {
      "cell_type": "code",
      "source": [
        "from Crypto.Cipher import ChaCha20_Poly1305\n",
        "from hashlib import sha256\n",
        "\n",
        "# ChaCha20 requiere una clave de 256 bits (32 bytes)\n",
        "key = sha256(str(shared_secret).encode()).digest()\n",
        "\n",
        "try:\n",
        "    cipher = ChaCha20_Poly1305.new(key=key, nonce=nonce)\n",
        "    cipher.update(b'')  # No hay AAD\n",
        "    plaintext = cipher.decrypt_and_verify(ciphertext, tag)\n",
        "    print(\"✅ Mensaje descifrado:\", plaintext.decode())\n",
        "except ValueError as e:\n",
        "    print(\"❌ Error al verificar MAC:\", str(e))\n"
      ],
      "metadata": {
        "colab": {
          "base_uri": "https://localhost:8080/",
          "height": 211
        },
        "outputId": "afcc29ed-7815-4d65-a2b4-c185dda8dd95",
        "id": "BXHFor_X-28C"
      },
      "execution_count": 1,
      "outputs": [
        {
          "output_type": "error",
          "ename": "NameError",
          "evalue": "name 'shared_secret' is not defined",
          "traceback": [
            "\u001b[0;31m---------------------------------------------------------------------------\u001b[0m",
            "\u001b[0;31mNameError\u001b[0m                                 Traceback (most recent call last)",
            "\u001b[0;32m<ipython-input-1-a5dd38a948d4>\u001b[0m in \u001b[0;36m<cell line: 0>\u001b[0;34m()\u001b[0m\n\u001b[1;32m      3\u001b[0m \u001b[0;34m\u001b[0m\u001b[0m\n\u001b[1;32m      4\u001b[0m \u001b[0;31m# ChaCha20 requiere una clave de 256 bits (32 bytes)\u001b[0m\u001b[0;34m\u001b[0m\u001b[0;34m\u001b[0m\u001b[0m\n\u001b[0;32m----> 5\u001b[0;31m \u001b[0mkey\u001b[0m \u001b[0;34m=\u001b[0m \u001b[0msha256\u001b[0m\u001b[0;34m(\u001b[0m\u001b[0mstr\u001b[0m\u001b[0;34m(\u001b[0m\u001b[0mshared_secret\u001b[0m\u001b[0;34m)\u001b[0m\u001b[0;34m.\u001b[0m\u001b[0mencode\u001b[0m\u001b[0;34m(\u001b[0m\u001b[0;34m)\u001b[0m\u001b[0;34m)\u001b[0m\u001b[0;34m.\u001b[0m\u001b[0mdigest\u001b[0m\u001b[0;34m(\u001b[0m\u001b[0;34m)\u001b[0m\u001b[0;34m\u001b[0m\u001b[0;34m\u001b[0m\u001b[0m\n\u001b[0m\u001b[1;32m      6\u001b[0m \u001b[0;34m\u001b[0m\u001b[0m\n\u001b[1;32m      7\u001b[0m \u001b[0;32mtry\u001b[0m\u001b[0;34m:\u001b[0m\u001b[0;34m\u001b[0m\u001b[0;34m\u001b[0m\u001b[0m\n",
            "\u001b[0;31mNameError\u001b[0m: name 'shared_secret' is not defined"
          ]
        }
      ]
    },
    {
      "cell_type": "markdown",
      "source": [
        "# Parametros 4\n",
        "\n",
        "{\n",
        "\t\t\t\"p\": 13926985804350796967,\n",
        "\t\t\t\"q\": 6963492902175398483,\n",
        "\t\t\t\"g\": 4460925131279825939\n",
        "}"
      ],
      "metadata": {
        "id": "wIP3T37r-xwb"
      }
    },
    {
      "cell_type": "code",
      "source": [
        "p = 13926985804350796967\n",
        "g = 4460925131279825939\n",
        "\n",
        "server_public = 4487853499101726720\n",
        "client_public = 8927736431619495936\n"
      ],
      "metadata": {
        "id": "eUTbbJqm-xwd"
      },
      "execution_count": 3,
      "outputs": []
    },
    {
      "cell_type": "markdown",
      "source": [
        "## Baby Step - Giant Step"
      ],
      "metadata": {
        "id": "j-qkf2UP-xwf"
      }
    },
    {
      "cell_type": "code",
      "execution_count": null,
      "metadata": {
        "id": "OPlNYXI8-xwg"
      },
      "outputs": [],
      "source": [
        "import math\n",
        "\n",
        "def baby_step_giant_step(g, y, p):\n",
        "    m = math.isqrt(p) + 1\n",
        "\n",
        "    # Baby steps\n",
        "    baby_steps = {}\n",
        "    for j in range(m):\n",
        "        baby_steps[pow(g, j, p)] = j\n",
        "\n",
        "    # Precompute g^(-m)\n",
        "    c = pow(g, m * (p - 2), p)  # inverso modular\n",
        "\n",
        "    for i in range(m):\n",
        "        value = (y * pow(c, i, p)) % p\n",
        "        if value in baby_steps:\n",
        "            return i * m + baby_steps[value]\n",
        "    return None\n",
        "\n",
        "server_private = baby_step_giant_step(g, server_public, p)\n",
        "client_private = baby_step_giant_step(g, client_public, p)\n",
        "\n",
        "print(f\"🔐 Server private key: {server_private}\")\n",
        "print(f\"🔐 Client private key: {client_private}\")\n"
      ]
    },
    {
      "cell_type": "markdown",
      "source": [
        "## Calculo Llave compartida"
      ],
      "metadata": {
        "id": "Hfi6rC1_-xwi"
      }
    },
    {
      "cell_type": "code",
      "source": [
        "shared_secret = pow(client_public, server_private, p)\n",
        "print(\"🧩 Clave compartida derivada:\", shared_secret)\n"
      ],
      "metadata": {
        "id": "r4HXDftz-xwj"
      },
      "execution_count": null,
      "outputs": []
    },
    {
      "cell_type": "markdown",
      "source": [
        "## Datos del mensaje"
      ],
      "metadata": {
        "id": "wu9sbTF--xwl"
      }
    },
    {
      "cell_type": "markdown",
      "source": [
        "42[\"secure-reply\",{\"ciphertext\":\"Qy/N0od4HXXpampuKP4Taw==\",\"nonce\":\"aNYUNB4zdr6BDrqA\",\"tag\":\"nbVGC/SfFMGJUPjIYEPCGA==\",\"clientPubKey\":\"8927736431619495936\"}]"
      ],
      "metadata": {
        "id": "lIR5h8244tAO"
      }
    },
    {
      "cell_type": "code",
      "source": [
        "from base64 import b64decode\n",
        "\n",
        "ciphertext_b64 = \"Qy/N0od4HXXpampuKP4Taw==\"\n",
        "nonce_b64 = \"aNYUNB4zdr6BDrqA\"\n",
        "tag_b64 = \"nbVGC/SfFMGJUPjIYEPCGA==\"\n",
        "\n",
        "ciphertext = b64decode(ciphertext_b64)\n",
        "nonce = b64decode(nonce_b64)\n",
        "tag = b64decode(tag_b64)\n",
        "\n",
        "print(f\"📦 Ciphertext ({len(ciphertext)} bytes):\", ciphertext.hex())\n",
        "print(f\"📦 Nonce ({len(nonce)} bytes):\", nonce.hex())\n",
        "print(f\"📦 Tag ({len(tag)} bytes):\", tag.hex())"
      ],
      "metadata": {
        "id": "C2qegxzm-xwn"
      },
      "execution_count": null,
      "outputs": []
    },
    {
      "cell_type": "markdown",
      "source": [
        "## Decifrado ChaCha20"
      ],
      "metadata": {
        "id": "3bY2eFHo-xwp"
      }
    },
    {
      "cell_type": "code",
      "source": [
        "from Crypto.Cipher import ChaCha20_Poly1305\n",
        "from hashlib import sha256\n",
        "\n",
        "# ChaCha20 requiere una clave de 256 bits (32 bytes)\n",
        "key = sha256(str(shared_secret).encode()).digest()\n",
        "\n",
        "try:\n",
        "    cipher = ChaCha20_Poly1305.new(key=key, nonce=nonce)\n",
        "    cipher.update(b'')  # No hay AAD\n",
        "    plaintext = cipher.decrypt_and_verify(ciphertext, tag)\n",
        "    print(\"✅ Mensaje descifrado:\", plaintext.decode())\n",
        "except ValueError as e:\n",
        "    print(\"❌ Error al verificar MAC:\", str(e))\n"
      ],
      "metadata": {
        "id": "X4eiJlM--xwq"
      },
      "execution_count": null,
      "outputs": []
    },
    {
      "cell_type": "markdown",
      "source": [
        "# Parametros 5\n",
        "\t\t{\n",
        "\t\t\t\"p\": 137264501074495181280555132673901931323332164724815133317526595627537522562067022989603699054588480389773079016561323343477054349336451609284971148159280724829128531552270321268457769520042856144429883077983691811201653430137376919960068969990507421437958462547891425943025305810160065324145921753228735283903,\n",
        "\t\t\t\"q\": 68632250537247590640277566336950965661666082362407566658763297813768761281033511494801849527294240194886539508280661671738527174668225804642485574079640362414564265776135160634228884760021428072214941538991845905600826715068688459980034484995253710718979231273945712971512652905080032662072960876614367641951,\n",
        "\t\t\t\"g\": 40746562294764965373407784234554073062674073565341303353016758609344799210654104763969824808430330931109448281620048720300276969942539907157417365502013807736680793541720602226570436490901677489617911977499169334249484471027700239163555304280499401445437347279647322836086848012965178946904650279473615383579\n",
        "\t\t}\n"
      ],
      "metadata": {
        "id": "jylg_shi_Deg"
      }
    },
    {
      "cell_type": "code",
      "source": [
        "p = 137264501074495181280555132673901931323332164724815133317526595627537522562067022989603699054588480389773079016561323343477054349336451609284971148159280724829128531552270321268457769520042856144429883077983691811201653430137376919960068969990507421437958462547891425943025305810160065324145921753228735283903\n",
        "g = 40746562294764965373407784234554073062674073565341303353016758609344799210654104763969824808430330931109448281620048720300276969942539907157417365502013807736680793541720602226570436490901677489617911977499169334249484471027700239163555304280499401445437347279647322836086848012965178946904650279473615383579\n",
        "\n",
        "server_public = 78522347649279921975621745842335893351441656964609087999542039609992587584911818156669537790344529362113351795979371073149403388256216317538929965100582511999139716088780987749758221130072785756196103566787261849367026293315555323209311671575732904900221515944237403249457823758431337185056268393582073741312\n",
        "client_public = 61716094389351518944375261530813326822992061665750660160174603417073829436689205706992158700357076875598909251854163581280066940833837646980852921800189447838669375982606198618973633666704888519205283418621037630867615944605515317499177574495416144825555850413670106337658018931966787291979756995573679390720\n"
      ],
      "metadata": {
        "id": "6WPoMtpG_Deh"
      },
      "execution_count": 1,
      "outputs": []
    },
    {
      "cell_type": "markdown",
      "source": [
        "## Baby Step - Giant Step"
      ],
      "metadata": {
        "id": "-PgPNSYE_Dej"
      }
    },
    {
      "cell_type": "code",
      "execution_count": null,
      "metadata": {
        "id": "1WCNg2PX_Dek"
      },
      "outputs": [],
      "source": [
        "import math\n",
        "\n",
        "def baby_step_giant_step(g, y, p):\n",
        "    m = math.isqrt(p) + 1\n",
        "\n",
        "    # Baby steps\n",
        "    baby_steps = {}\n",
        "    for j in range(m):\n",
        "        baby_steps[pow(g, j, p)] = j\n",
        "\n",
        "    # Precompute g^(-m)\n",
        "    c = pow(g, m * (p - 2), p)  # inverso modular\n",
        "\n",
        "    for i in range(m):\n",
        "        value = (y * pow(c, i, p)) % p\n",
        "        if value in baby_steps:\n",
        "            return i * m + baby_steps[value]\n",
        "    return None\n",
        "\n",
        "server_private = baby_step_giant_step(g, server_public, p)\n",
        "client_private = baby_step_giant_step(g, client_public, p)\n",
        "\n",
        "print(f\"🔐 Server private key: {server_private}\")\n",
        "print(f\"🔐 Client private key: {client_private}\")\n"
      ]
    },
    {
      "cell_type": "markdown",
      "source": [
        "## Calculo Llave compartida"
      ],
      "metadata": {
        "id": "CUOxKIeB_Dem"
      }
    },
    {
      "cell_type": "code",
      "source": [
        "shared_secret = pow(client_public, server_private, p)\n",
        "print(\"🧩 Clave compartida derivada:\", shared_secret)\n"
      ],
      "metadata": {
        "id": "7PX3Rk29_Den"
      },
      "execution_count": null,
      "outputs": []
    },
    {
      "cell_type": "markdown",
      "source": [
        "## Datos del mensaje"
      ],
      "metadata": {
        "id": "j_t380Kw_Deo"
      }
    },
    {
      "cell_type": "markdown",
      "source": [
        "[…]42[\"secure-reply\",{\"ciphertext\":\"svGwiJDQzSfn\",\"nonce\":\"1MvX7NWxJ5AHdYpc\",\"tag\":\"HZM20dXvPTu/HeTZAUJYnQ==\",\"clientPubKey\":\"61716094389351518944375261530813326822992061665750660160174603417073829436689205706992158700357076875598909251......\n"
      ],
      "metadata": {
        "id": "jZI_QnY8_3Oa"
      }
    },
    {
      "cell_type": "code",
      "source": [
        "from base64 import b64decode\n",
        "\n",
        "ciphertext_b64 = \"svGwiJDQzSfn\"\n",
        "nonce_b64 = \"1MvX7NWxJ5AHdYpc\"\n",
        "tag_b64 = \"HZM20dXvPTu/HeTZAUJYnQ==\"\n",
        "\n",
        "ciphertext = b64decode(ciphertext_b64)\n",
        "nonce = b64decode(nonce_b64)\n",
        "tag = b64decode(tag_b64)\n",
        "\n",
        "print(f\"📦 Ciphertext ({len(ciphertext)} bytes):\", ciphertext.hex())\n",
        "print(f\"📦 Nonce ({len(nonce)} bytes):\", nonce.hex())\n",
        "print(f\"📦 Tag ({len(tag)} bytes):\", tag.hex())"
      ],
      "metadata": {
        "colab": {
          "base_uri": "https://localhost:8080/"
        },
        "outputId": "208a375e-91ac-4598-8915-2faca4c75a2e",
        "id": "2tGZKSbb_Dep"
      },
      "execution_count": null,
      "outputs": [
        {
          "output_type": "stream",
          "name": "stdout",
          "text": [
            "📦 Ciphertext (5 bytes): 1ba7819478\n",
            "📦 Nonce (12 bytes): 2e00d367add9d3635fc3688f\n",
            "📦 Tag (16 bytes): 1d8ccaf287c6b948747e0a603f1cabae\n"
          ]
        }
      ]
    },
    {
      "cell_type": "markdown",
      "source": [
        "## Decifrado ChaCha20"
      ],
      "metadata": {
        "id": "IBiXUKfk_Deq"
      }
    },
    {
      "cell_type": "code",
      "source": [
        "from Crypto.Cipher import ChaCha20_Poly1305\n",
        "from hashlib import sha256\n",
        "\n",
        "# ChaCha20 requiere una clave de 256 bits (32 bytes)\n",
        "key = sha256(str(shared_secret).encode()).digest()\n",
        "\n",
        "try:\n",
        "    cipher = ChaCha20_Poly1305.new(key=key, nonce=nonce)\n",
        "    cipher.update(b'')  # No hay AAD\n",
        "    plaintext = cipher.decrypt_and_verify(ciphertext, tag)\n",
        "    print(\"✅ Mensaje descifrado:\", plaintext.decode())\n",
        "except ValueError as e:\n",
        "    print(\"❌ Error al verificar MAC:\", str(e))\n"
      ],
      "metadata": {
        "id": "tHNqFcc3_Des"
      },
      "execution_count": null,
      "outputs": []
    }
  ]
}